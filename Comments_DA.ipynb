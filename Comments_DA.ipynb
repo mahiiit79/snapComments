{
 "cells": [
  {
   "cell_type": "code",
   "id": "initial_id",
   "metadata": {
    "collapsed": true,
    "ExecuteTime": {
     "end_time": "2025-05-20T11:11:01.654738Z",
     "start_time": "2025-05-20T11:10:59.864755Z"
    }
   },
   "source": [
    "import pandas as pd\n",
    "\n",
    "df = pd.read_csv('Snappfood.csv', encoding='utf-8', on_bad_lines='skip', header=None)\n",
    "\n",
    "\n",
    "split_columns = df[0].str.split('\\t', n=2, expand=True)\n",
    "split_columns.columns = ['label_id', 'comment','label']\n",
    "for col in split_columns.columns:\n",
    "        split_columns[col] = split_columns[col].str.replace('\\t', '', regex=False)\n",
    "        split_columns = split_columns.drop(index=0).reset_index(drop=True)\n",
    "clean_df = split_columns\n",
    "clean_df.to_csv('Snappfood_clean.csv', index=False)\n",
    "      \n",
    "saved_df = pd.read_csv('Snappfood_clean.csv')\n",
    "def split_words(comments):\n",
    "    words = comments.split()\n",
    "    return [f\"'{word}'\" for word in words]\n",
    "\n",
    "saved_df['words'] = saved_df['comment'].apply(split_words)\n",
    "# print(saved_df)\n",
    "# print('*' * 30)\n",
    "# print(len(saved_df))\n",
    "# print('*' * 30)\n",
    "all_words = saved_df['words'].explode()\n",
    "# print(all_words)\n",
    "# print('*' * 30)\n",
    "# print(len(all_words))\n",
    "# print('*' * 30)\n",
    "drop_duplicated = all_words.drop_duplicates()\n",
    "print(drop_duplicated)\n",
    "\n",
    "# print('*' * 30)\n",
    "# print(len(drop_duplicated))\n",
    "\n",
    "\n"
   ],
   "outputs": [
    {
     "name": "stdout",
     "output_type": "stream",
     "text": [
      "0             'قیمت'\n",
      "0              'این'\n",
      "0              'مدل'\n",
      "0             'اصلا'\n",
      "0               'با'\n",
      "            ...     \n",
      "69730     'دارم!!!؟'\n",
      "69733     'عااااشقش'\n",
      "69741    'تعجبه!!!!'\n",
      "69741     'دورریختن'\n",
      "69746      'چربی‌اش'\n",
      "Name: words, Length: 46431, dtype: object\n"
     ]
    }
   ],
   "execution_count": 40
  },
  {
   "metadata": {
    "ExecuteTime": {
     "end_time": "2025-05-20T06:54:14.526537Z",
     "start_time": "2025-05-20T06:54:13.796498Z"
    }
   },
   "cell_type": "code",
   "source": "",
   "id": "246fbe5a8dfd77ea",
   "outputs": [
    {
     "name": "stdout",
     "output_type": "stream",
     "text": [
      "0          'واقعا'\n",
      "0            'حیف'\n",
      "0            'وقت'\n",
      "0             'که'\n",
      "0         'بنویسم'\n",
      "           ...    \n",
      "69998        'هوا'\n",
      "69999      'فلفلش'\n",
      "69999    'خییییلی'\n",
      "69999        'تند'\n",
      "69999       'بود.'\n",
      "Name: words, Length: 1295282, dtype: object\n",
      "******************************\n",
      "1295282\n",
      "******************************\n",
      "0            'واقعا'\n",
      "0              'حیف'\n",
      "0              'وقت'\n",
      "0               'که'\n",
      "0           'بنویسم'\n",
      "            ...     \n",
      "69981      'بود,فقط'\n",
      "69981      'مسیرمون'\n",
      "69984    'تعجبه!!!!'\n",
      "69984     'دورریختن'\n",
      "69989      'چربی‌اش'\n",
      "Name: words, Length: 46926, dtype: object\n",
      "******************************\n",
      "46926\n"
     ]
    }
   ],
   "execution_count": 36
  },
  {
   "metadata": {
    "ExecuteTime": {
     "end_time": "2025-05-20T06:20:35.273957Z",
     "start_time": "2025-05-20T06:20:35.262206Z"
    }
   },
   "cell_type": "code",
   "source": "",
   "id": "b686ef33b35c02aa",
   "outputs": [
    {
     "name": "stdout",
     "output_type": "stream",
     "text": [
      "Empty DataFrame\n",
      "Columns: [word]\n",
      "Index: []\n"
     ]
    }
   ],
   "execution_count": 19
  },
  {
   "metadata": {
    "ExecuteTime": {
     "end_time": "2025-05-20T06:39:05.889672Z",
     "start_time": "2025-05-20T06:39:05.887841Z"
    }
   },
   "cell_type": "code",
   "source": "",
   "id": "efcf4211c1669a0e",
   "outputs": [],
   "execution_count": null
  },
  {
   "metadata": {},
   "cell_type": "code",
   "outputs": [],
   "execution_count": null,
   "source": "",
   "id": "5c48c91bea091091"
  }
 ],
 "metadata": {
  "kernelspec": {
   "display_name": "Python 3",
   "language": "python",
   "name": "python3"
  },
  "language_info": {
   "codemirror_mode": {
    "name": "ipython",
    "version": 2
   },
   "file_extension": ".py",
   "mimetype": "text/x-python",
   "name": "python",
   "nbconvert_exporter": "python",
   "pygments_lexer": "ipython2",
   "version": "2.7.6"
  }
 },
 "nbformat": 4,
 "nbformat_minor": 5
}
